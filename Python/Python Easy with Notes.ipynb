{
 "cells": [
  {
   "cell_type": "markdown",
   "id": "2ddc7f80",
   "metadata": {},
   "source": [
    "# Collections\n"
   ]
  },
  {
   "cell_type": "markdown",
   "id": "14ca585e",
   "metadata": {},
   "source": [
    "## Collections. OrderedDict"
   ]
  },
  {
   "cell_type": "markdown",
   "id": "a080c3fc",
   "metadata": {},
   "source": [
    "An OrderedDict is a dictionary that remembers the order of the keys that were inserted first. If a new entry overwrites an existing entry, the original insertion position is left unchanged."
   ]
  },
  {
   "cell_type": "code",
   "execution_count": null,
   "id": "72cb0c6a",
   "metadata": {},
   "outputs": [],
   "source": [
    "from collections import OrderedDict"
   ]
  },
  {
   "cell_type": "code",
   "execution_count": null,
   "id": "76f49a65",
   "metadata": {},
   "outputs": [],
   "source": [
    "from collections import OrderedDict\n",
    "N = int(input())\n",
    "#item = input().split()\n",
    "ordered_dictionary = OrderedDict()\n",
    "for i in range(0,N):\n",
    "    itemlist = input().split() \n",
    "    itemname = ' '.join(itemlist[:-1])\n",
    "    price = int(itemlist[-1])\n",
    "    if itemname in ordered_dictionary.keys():\n",
    "        ordered_dictionary[itemname] = ordered_dictionary[itemname] + price\n",
    "    else: \n",
    "        ordered_dictionary[itemname] = price\n",
    "for k in ordered_dictionary.items():\n",
    "    print(*k)\n"
   ]
  },
  {
   "cell_type": "markdown",
   "id": "18737945",
   "metadata": {},
   "source": [
    "### COLLECTIONS.DEQUE"
   ]
  },
  {
   "cell_type": "markdown",
   "id": "d3b59aba",
   "metadata": {},
   "source": [
    "A deque is a double-ended queue. It can be used to add or remove elements from both ends.\n",
    "Deques support thread safe, memory efficient appends and pops from either side of the deque with approximately the same  O(1) performance in either direction."
   ]
  },
  {
   "cell_type": "code",
   "execution_count": null,
   "id": "5b67a356",
   "metadata": {},
   "outputs": [],
   "source": [
    "from collections import deque\n",
    "d = deque()\n",
    "d.append(1)\n",
    "print(d)\n",
    "d.appendleft(2)\n",
    "print(d)\n",
    "d.clear()\n",
    "print(d)\n",
    "d.extend('1')\n",
    "print(d)\n",
    "d.extendleft('234')\n",
    "print(d)\n",
    "d.count('1')\n",
    "d.pop()\n",
    "print(d)\n",
    "d.popleft()\n",
    "print(d)\n",
    "d.extend('7896')\n",
    "print(d)\n",
    "d.remove('2')\n",
    "print(d)\n",
    "d.reverse()\n",
    "print(d)\n",
    "d.rotate(3)\n",
    "print(d)"
   ]
  },
  {
   "cell_type": "code",
   "execution_count": null,
   "id": "2c4d1ea5",
   "metadata": {},
   "outputs": [],
   "source": [
    "from collections import deque\n",
    "N = int(input())\n",
    "d = deque()\n",
    "for i in range(N):\n",
    "    cmd = input().split()\n",
    "    if len(cmd) == 1:\n",
    "        cmd.append(\"\")\n",
    "    eval(\"d.\"+cmd[0]+\"(\"+cmd[1]+\")\")\n",
    "print(*d)"
   ]
  },
  {
   "cell_type": "markdown",
   "id": "1f901262",
   "metadata": {},
   "source": [
    "# Itertools"
   ]
  },
  {
   "cell_type": "markdown",
   "id": "b291dd07",
   "metadata": {},
   "source": [
    "### itertools.combinations(iterable, r)"
   ]
  },
  {
   "cell_type": "markdown",
   "id": "9af171ae",
   "metadata": {},
   "source": [
    "This tool returns the  length subsequences of elements from the input iterable.\n",
    "\n",
    "Combinations are emitted in lexicographic sorted order. So, if the input iterable is sorted, the combination tuples will be produced in sorted order."
   ]
  },
  {
   "cell_type": "code",
   "execution_count": null,
   "id": "00e5a9f2",
   "metadata": {},
   "outputs": [],
   "source": [
    "from itertools import combinations"
   ]
  },
  {
   "cell_type": "code",
   "execution_count": null,
   "id": "7bdfcdef",
   "metadata": {},
   "outputs": [],
   "source": [
    "A = [1,1,2,3,4]\n",
    "print(list(combinations(A,4)))"
   ]
  },
  {
   "cell_type": "code",
   "execution_count": null,
   "id": "85f58e3b",
   "metadata": {},
   "outputs": [],
   "source": [
    "from itertools import combinations\n",
    "n,k = input().strip().split()\n",
    "n = sorted(n)\n",
    "oplist = []\n",
    "for i in range(1, int(k)+1):\n",
    "    oplist.append(sorted(list(combinations(n,i))))\n",
    "for item in oplist:\n",
    "    for comb in item:\n",
    "        print(''.join(comb))"
   ]
  },
  {
   "cell_type": "markdown",
   "id": "08a7f94c",
   "metadata": {},
   "source": [
    "\n",
    "### itertools.combinations_with_replacement(iterable, r)"
   ]
  },
  {
   "cell_type": "code",
   "execution_count": null,
   "id": "8d889a41",
   "metadata": {},
   "outputs": [],
   "source": [
    "from itertools import combinations_with_replacement\n",
    "s,k = input().strip().split()\n",
    "l = list(combinations_with_replacement(sorted(s),int(k)))\n",
    "for items in l:\n",
    "    print(''.join(items))"
   ]
  },
  {
   "cell_type": "markdown",
   "id": "f5e9b09e",
   "metadata": {},
   "source": [
    "# Errors and Exceptions\n"
   ]
  },
  {
   "cell_type": "code",
   "execution_count": null,
   "id": "5816cc74",
   "metadata": {},
   "outputs": [],
   "source": [
    "import re\n",
    "T = int(input())\n",
    "for i in range(T):\n",
    "    try:\n",
    "        regex = re.compile(input())\n",
    "        print(True)\n",
    "    except:\n",
    "        print(False)"
   ]
  },
  {
   "cell_type": "markdown",
   "id": "28d6fe78",
   "metadata": {},
   "source": [
    "# SETS"
   ]
  },
  {
   "cell_type": "markdown",
   "id": "16aa9b99",
   "metadata": {},
   "source": [
    "# Sets.add()\n",
    "\n"
   ]
  },
  {
   "cell_type": "markdown",
   "id": "eb37a899",
   "metadata": {},
   "source": [
    "If we want to add a single element to an existing set, we can use the .add() operation.\n",
    "It adds the element to the set and returns 'None'."
   ]
  },
  {
   "cell_type": "code",
   "execution_count": null,
   "id": "b86346a8",
   "metadata": {},
   "outputs": [],
   "source": [
    "n = int(input())\n",
    "s = set()\n",
    "for i in range(n):\n",
    "    stamp = input()\n",
    "    if stamp not in s:\n",
    "        s.add(stamp)\n",
    "    else:\n",
    "        pass\n",
    "print(len(s))"
   ]
  },
  {
   "cell_type": "markdown",
   "id": "e572e2d8",
   "metadata": {},
   "source": [
    "# Set .discard(), .remove() & .pop()"
   ]
  },
  {
   "cell_type": "markdown",
   "id": "d71a9ac9",
   "metadata": {},
   "source": [
    ".remove(x)\n",
    "This operation removes element  from the set.\n",
    "If element  does not exist, it raises a KeyError.\n",
    "The .remove(x) operation returns None.\n",
    "\n",
    "--------------------------------------------------------------\n",
    ".discard(x)\n",
    "This operation also removes element  from the set.\n",
    "If element  does not exist, it does not raise a KeyError.\n",
    "The .discard(x) operation returns None.\n",
    "\n",
    "---------------------------------------------------------------\n",
    ".pop()\n",
    "This operation removes and return an arbitrary element from the set.\n",
    "If there are no elements to remove, it raises a KeyError.\n",
    "\n",
    "---------------------------------------------------------------\n",
    " learnt the use of eval():\n",
    " https://realpython.com/python-eval-function/\n",
    " "
   ]
  },
  {
   "cell_type": "code",
   "execution_count": null,
   "id": "6ff6382c",
   "metadata": {},
   "outputs": [],
   "source": [
    "n = int(input())\n",
    "s = set(map(int, input().split()))\n",
    "N = int(input())\n",
    "for i in range(N):\n",
    "    cmd = input().split()\n",
    "    if len(cmd) == 1:\n",
    "        cmd.append(\"\")\n",
    "    eval(\"s.\"+cmd[0]+\"(\"+cmd[1]+\")\")\n",
    "print(sum(s))"
   ]
  },
  {
   "cell_type": "markdown",
   "id": "e365099c",
   "metadata": {},
   "source": [
    "# set.union"
   ]
  },
  {
   "cell_type": "markdown",
   "id": "e89ccd5a",
   "metadata": {},
   "source": [
    "The .union() operator returns the union of a set and the set of elements in an iterable.\n",
    "Sometimes, the | operator is used in place of .union() operator, but it operates only on the set of elements in set.\n",
    "Set is immutable to the .union() operation (or | operation)."
   ]
  },
  {
   "cell_type": "code",
   "execution_count": null,
   "id": "b64580a5",
   "metadata": {},
   "outputs": [],
   "source": [
    "s = set(\"Hacker\")\n",
    "print(s.union(\"Rank\"))\n",
    "\n",
    "print( s.union(set(['R', 'a', 'n', 'k'])))\n",
    "\n",
    "print( s.union(['R', 'a', 'n', 'k']))\n",
    "\n",
    "print( s.union(enumerate(['R', 'a', 'n', 'k'])))\n",
    "\n",
    "print( s.union({\"Rank\":1}))\n",
    "\n",
    "s | set(\"Rank\")"
   ]
  },
  {
   "cell_type": "code",
   "execution_count": null,
   "id": "84432ad1",
   "metadata": {},
   "outputs": [],
   "source": [
    "n = int(input())\n",
    "students_e = set(input().split())\n",
    "b = int(input())\n",
    "students_f = set(input().split())\n",
    "at_1 = students_e.union(students_f)\n",
    "print(len(at_1))"
   ]
  },
  {
   "cell_type": "markdown",
   "id": "b69d583a",
   "metadata": {},
   "source": [
    "### sets.intersection()"
   ]
  },
  {
   "cell_type": "markdown",
   "id": "8f886d57",
   "metadata": {},
   "source": [
    "The .intersection() operator returns the intersection of a set and the set of elements in an iterable.\n",
    "Sometimes, the & operator is used in place of the .intersection() operator, but it only operates on the set of elements in set.\n",
    "The set is immutable to the .intersection() operation (or & operation)."
   ]
  },
  {
   "cell_type": "code",
   "execution_count": null,
   "id": "35236b1d",
   "metadata": {},
   "outputs": [],
   "source": [
    "s = set(\"Hacker\")\n",
    "print( s.intersection(\"Rank\"))\n",
    "\n",
    "\n",
    "print (s.intersection(set(['R', 'a', 'n', 'k'])))\n",
    "\n",
    "\n",
    "print (s.intersection(['R', 'a', 'n', 'k']))\n",
    "\n",
    "\n",
    "print (s.intersection(enumerate(['R', 'a', 'n', 'k'])))\n",
    "\n",
    "\n",
    "print (s.intersection({\"Rank\":1}))\n",
    "\n",
    "\n",
    "s & set(\"Rank\")"
   ]
  },
  {
   "cell_type": "code",
   "execution_count": null,
   "id": "d5d8db14",
   "metadata": {},
   "outputs": [],
   "source": [
    "n = int(input())\n",
    "n_s = set(input().split())\n",
    "b= int(input())\n",
    "b_s = set(input().split())\n",
    "s_both = n_s.intersection(b_s)\n",
    "print(len(s_both))"
   ]
  },
  {
   "cell_type": "markdown",
   "id": "a6699b28",
   "metadata": {},
   "source": [
    "### set.difference()"
   ]
  },
  {
   "cell_type": "markdown",
   "id": "c8f8e17d",
   "metadata": {},
   "source": [
    ".difference()\n",
    "The tool .difference() returns a set with all the elements from the set that are not in an iterable.\n",
    "Sometimes the - operator is used in place of the .difference() tool, but it only operates on the set of elements in set.\n",
    "Set is immutable to the .difference() operation (or the - operation)."
   ]
  },
  {
   "cell_type": "code",
   "execution_count": null,
   "id": "283a7f97",
   "metadata": {},
   "outputs": [],
   "source": [
    "n = int(input())\n",
    "n_s = set(input().split())\n",
    "b= int(input())\n",
    "b_s = set(input().split())\n",
    "e_o = n_s.difference(b_s)\n",
    "print(len(e_o))"
   ]
  },
  {
   "cell_type": "markdown",
   "id": "b7628256",
   "metadata": {},
   "source": [
    "### Set.symmetric_difference()"
   ]
  },
  {
   "cell_type": "markdown",
   "id": "e50b0b94",
   "metadata": {},
   "source": [
    ".symmetric_difference()\n",
    "The .symmetric_difference() operator returns a set with all the elements that are in the set and the iterable but not both.\n",
    "Sometimes, a ^ operator is used in place of the .symmetric_difference() tool, but it only operates on the set of elements in set.\n",
    "The set is immutable to the .symmetric_difference() operation (or ^ operation).\n",
    "\n",
    "s = set(\"Hacker\")\n",
    "\n",
    "print s.symmetric_difference(\"Rank\")\n",
    "\n",
    "set(['c', 'e', 'H', 'n', 'R', 'r'])\n",
    "\n",
    "print s.symmetric_difference(set(['R', 'a', 'n', 'k']))\n",
    "\n",
    "set(['c', 'e', 'H', 'n', 'R', 'r'])\n",
    "\n",
    "print s.symmetric_difference(['R', 'a', 'n', 'k'])\n",
    "\n",
    "set(['c', 'e', 'H', 'n', 'R', 'r'])\n",
    "\n",
    "print s.symmetric_difference(enumerate(['R', 'a', 'n', 'k']))\n",
    "\n",
    "set(['a', 'c', 'e', 'H', (0, 'R'), 'r', (2, 'n'), 'k', (1, 'a'), (3, 'k')])\n",
    "\n",
    "print s.symmetric_difference({\"Rank\":1})\n",
    "\n",
    "set(['a', 'c', 'e', 'H', 'k', 'Rank', 'r'])\n",
    "\n",
    "s ^ set(\"Rank\")\n",
    "\n",
    "set(['c', 'e', 'H', 'n', 'R', 'r'])"
   ]
  },
  {
   "cell_type": "code",
   "execution_count": null,
   "id": "7e6ce4a1",
   "metadata": {},
   "outputs": [],
   "source": [
    "n = int(input())\n",
    "n_s = set(input().split())\n",
    "b= int(input())\n",
    "b_s = set(input().split())\n",
    "e_f = n_s.symmetric_difference(b_s)\n",
    "print(len(e_f))"
   ]
  },
  {
   "cell_type": "markdown",
   "id": "7c312b33",
   "metadata": {},
   "source": [
    "### Mutations"
   ]
  },
  {
   "cell_type": "code",
   "execution_count": null,
   "id": "a5501783",
   "metadata": {},
   "outputs": [],
   "source": [
    "#.update() or |=\n",
    "#Update the set by adding elements from an iterable/another set.\n",
    "\n",
    "#H = set(\"Hacker\")\n",
    "#R = set(\"Rank\")\n",
    "#H.update(R)\n",
    "#print H\n",
    "#set(['a', 'c', 'e', 'H', 'k', 'n', 'r', 'R'])\n",
    "#.intersection_update() or &=\n",
    "#Update the set by keeping only the elements found in it and an iterable/another set.\n",
    "\n",
    " #H = set(\"Hacker\")\n",
    " #R = set(\"Rank\")\n",
    " #H.intersection_update(R)\n",
    " #print H\n",
    "#set(['a', 'k'])\n",
    "#.difference_update() or -=\n",
    "#Update the set by removing elements found in an iterable/another set.\n",
    "\n",
    " #H = set(\"Hacker\")\n",
    " #R = set(\"Rank\")\n",
    " #H.difference_update(R)\n",
    " #print H\n",
    "#set(['c', 'e', 'H', 'r'])\n",
    "#.symmetric_difference_update() or ^=\n",
    "#Update the set by only keeping the elements found in either set, but not in both.\n",
    "\n",
    " #H = set(\"Hacker\")\n",
    " #R = set(\"Rank\")\n",
    " #H.symmetric_difference_update(R)\n",
    " #print H\n",
    " #set(['c', 'e', 'H', 'n', 'r', 'R'])"
   ]
  },
  {
   "cell_type": "code",
   "execution_count": null,
   "id": "5c47a4bd",
   "metadata": {},
   "outputs": [],
   "source": [
    "A = int(input())\n",
    "SetA = set(input().split())\n",
    "N = int(input())\n",
    "\n",
    "for i in range(N):\n",
    "    cmd = input().split()\n",
    "    set2 = set(input().split())\n",
    "    eval(\"SetA.\"+cmd[0]+\"(\"+\"set2\"+\")\")\n",
    "SetA = map(int,SetA)\n",
    "print(sum(SetA))"
   ]
  },
  {
   "cell_type": "markdown",
   "id": "c7891f73",
   "metadata": {},
   "source": [
    "### The Captain's Room"
   ]
  },
  {
   "cell_type": "code",
   "execution_count": null,
   "id": "d8314946",
   "metadata": {},
   "outputs": [],
   "source": [
    "N = int(input())\n",
    "rooms = list(map(int,input().split()))\n",
    "print((sum(set(rooms))*N-sum(rooms))//(N-1))"
   ]
  },
  {
   "cell_type": "code",
   "execution_count": null,
   "id": "13eea3b3",
   "metadata": {},
   "outputs": [],
   "source": [
    "from collections import Counter \n",
    "n=int(input()) \n",
    "a=list(map(int,input().split())) \n",
    "c=Counter(a) \n",
    "for i in c: \n",
    "    if c[i]==1: \n",
    "        print(i)\n",
    "# Counter gives the frequencies of every value in an iterable"
   ]
  },
  {
   "cell_type": "markdown",
   "id": "57c1aae9",
   "metadata": {},
   "source": [
    "### Check Subset (issubeset())"
   ]
  },
  {
   "cell_type": "code",
   "execution_count": null,
   "id": "c0049e19",
   "metadata": {},
   "outputs": [],
   "source": [
    "T = int(input())\n",
    "for i in range(T):\n",
    "    n = int(input())\n",
    "    A = set(input().split())\n",
    "    m = int(input())\n",
    "    B = set(input().split())\n",
    "    if A.issubset(B):\n",
    "        print(True)\n",
    "    else:\n",
    "        print(False)"
   ]
  },
  {
   "cell_type": "markdown",
   "id": "4a0085f0",
   "metadata": {},
   "source": [
    "### Stricct SUperset\n",
    "A strict superset has at least one element that does not exist in its subset."
   ]
  },
  {
   "cell_type": "code",
   "execution_count": null,
   "id": "fde6c1c6",
   "metadata": {},
   "outputs": [],
   "source": [
    "A = set(input().split())\n",
    "N = int(input())\n",
    "x = True\n",
    "for i in range(N):\n",
    "    Os = set(input().split())\n",
    "    if not A.issuperset(Os):\n",
    "        x = False\n",
    "        break\n",
    "        \n",
    "print(x)"
   ]
  },
  {
   "cell_type": "markdown",
   "id": "6690a212",
   "metadata": {},
   "source": [
    "# MATH"
   ]
  },
  {
   "cell_type": "markdown",
   "id": "030e2b58",
   "metadata": {},
   "source": [
    "### Divmod"
   ]
  },
  {
   "cell_type": "markdown",
   "id": "1d22ce0b",
   "metadata": {},
   "source": [
    "One of the built-in functions of Python is divmod, which takes two arguments  and  and returns a tuple containing the quotient of  first and then the remainder .\n",
    "\n",
    "->print divmod(177,10)"
   ]
  },
  {
   "cell_type": "code",
   "execution_count": null,
   "id": "0c70541c",
   "metadata": {},
   "outputs": [],
   "source": [
    "a = int(input())\n",
    "b = int(input())\n",
    "print(a//b)\n",
    "print(a%b)\n",
    "print(divmod(a,b))"
   ]
  },
  {
   "cell_type": "markdown",
   "id": "fbf055de",
   "metadata": {},
   "source": [
    "### Power - Mode Power"
   ]
  },
  {
   "cell_type": "markdown",
   "id": "ef81786e",
   "metadata": {},
   "source": [
    "Powers or exponents in Python can be calculated using the built-in power function. Call the power function  as shown below:\n",
    "\n",
    "->pow(a,b) \n",
    "or\n",
    "\n",
    "-> a**b\n",
    "\n",
    "It's also possible to calculate .\n",
    "\n",
    "-> pow(a,b,m)  \n",
    "This is very helpful in computations where you have to print the resultant % mod.\n",
    "\n",
    "Note: Here,  and  can be floats or negatives, but, if a third argument is present,  cannot be negative.\n",
    "\n",
    "Note: Python has a math module that has its own pow(). It takes two arguments and returns a float. It is uncommon to use math.pow()."
   ]
  },
  {
   "cell_type": "code",
   "execution_count": null,
   "id": "1321d246",
   "metadata": {},
   "outputs": [],
   "source": [
    "# Enter your code here. Read input from STDIN. Print output to STDOUT\n",
    "a = int(input())\n",
    "b = int(input())\n",
    "m = int(input())\n",
    "print(pow(a,b))\n",
    "print(pow(a,b,m))\n"
   ]
  },
  {
   "cell_type": "markdown",
   "id": "16e8abe3",
   "metadata": {},
   "source": [
    "### Integers Come In All Sizes"
   ]
  },
  {
   "cell_type": "markdown",
   "id": "6e63c6af",
   "metadata": {},
   "source": [
    "Integers in Python can be as big as the bytes in your machine's memory. There is no limit in size as there is:  (c++ int) 2^31-1  or  (C++ long long int) 2^63-1  \n",
    "\n",
    "As we know, the result of  grows really fast with increasing ."
   ]
  },
  {
   "cell_type": "code",
   "execution_count": null,
   "id": "7e2a45f1",
   "metadata": {},
   "outputs": [],
   "source": [
    "a,b,c,d = [int(input()) for i in range(4)]\n",
    "print(pow(a,b)+pow(c,d))\n",
    "# This result is bigger than 2^63-1 . Hence, it won't fit in the long long int of C++ or a 64-bit integer."
   ]
  },
  {
   "cell_type": "markdown",
   "id": "67eaa112",
   "metadata": {},
   "source": [
    "# Built-Ins"
   ]
  },
  {
   "cell_type": "markdown",
   "id": "07e14055",
   "metadata": {},
   "source": [
    "### Zipped"
   ]
  },
  {
   "cell_type": "markdown",
   "id": "e0f75527",
   "metadata": {},
   "source": [
    "This function returns a list of tuples. The th tuple contains the th element from each of the argument sequences or iterables.\n",
    "\n",
    "If the argument sequences are of unequal lengths, then the returned list is truncated to the length of the shortest argument sequence.\n",
    "\n"
   ]
  },
  {
   "cell_type": "code",
   "execution_count": null,
   "id": "158ace5f",
   "metadata": {},
   "outputs": [],
   "source": [
    "print(*zip([1,2,3,4,5,6],'Hacker'))\n",
    "\n",
    "print(*zip([1,2,3,4,5,6],[0,9,8,7,6,5,4,3,2,1]))\n",
    "\n",
    " \n",
    "A = [1,2,3]\n",
    "B = [6,5,4]\n",
    "C = [7,8,9]\n",
    "X = [A] + [B] + [C]\n",
    " \n",
    "print(*zip(*X))\n"
   ]
  },
  {
   "cell_type": "code",
   "execution_count": null,
   "id": "f9646337",
   "metadata": {},
   "outputs": [],
   "source": [
    "N,X = map(int,input().split())\n",
    "all_sub_marks = []\n",
    "for i in range(X):\n",
    "    sub_marks = map(float,input().split())\n",
    "    all_sub_marks.append(list(sub_marks))\n",
    "x = list(zip(*all_sub_marks))\n",
    "for i in x:\n",
    "    print(sum(i)/len(i))"
   ]
  },
  {
   "cell_type": "markdown",
   "id": "ab33ca08",
   "metadata": {},
   "source": [
    "### Input()"
   ]
  },
  {
   "cell_type": "code",
   "execution_count": null,
   "id": "4f3e26f3",
   "metadata": {},
   "outputs": [],
   "source": [
    "x,k = map(int,input().split())\n",
    "P = input()\n",
    "result = True\n",
    "if eval(P) != k:\n",
    "    result = False\n",
    "print(result)"
   ]
  },
  {
   "cell_type": "markdown",
   "id": "5ce5eed9",
   "metadata": {},
   "source": [
    "### eval() "
   ]
  },
  {
   "cell_type": "markdown",
   "id": "f0e1a62f",
   "metadata": {},
   "source": [
    "The eval() expression is a very powerful built-in function of Python. It helps in evaluating an expression. The expression can be a Python statement, or a code object."
   ]
  },
  {
   "cell_type": "code",
   "execution_count": null,
   "id": "cf5273b6",
   "metadata": {},
   "outputs": [],
   "source": [
    "ip= input()\n",
    "eval(ip)"
   ]
  },
  {
   "cell_type": "markdown",
   "id": "2d4edb6c",
   "metadata": {},
   "source": [
    "### Any or All "
   ]
  },
  {
   "cell_type": "markdown",
   "id": "6a208049",
   "metadata": {},
   "source": [
    "any()\n",
    "This expression returns True if any element of the iterable is true.\n",
    "If the iterable is empty, it will return False.\n",
    "\n",
    "all()\n",
    "This expression returns True if all of the elements of the iterable are true. If the iterable is empty, it will return True."
   ]
  },
  {
   "cell_type": "code",
   "execution_count": null,
   "id": "01639eb5",
   "metadata": {},
   "outputs": [],
   "source": [
    "input()\n",
    "x = list(input().split())\n",
    "print(any(n[::-1] == n for n in x) if all(int(n) > 0 for n in x) else False)\n",
    "    "
   ]
  },
  {
   "cell_type": "markdown",
   "id": "109613eb",
   "metadata": {},
   "source": [
    "# Regex and Parsing"
   ]
  },
  {
   "cell_type": "markdown",
   "id": "db397eb9",
   "metadata": {},
   "source": [
    "## Detect Floating Point Number\n"
   ]
  },
  {
   "cell_type": "code",
   "execution_count": null,
   "id": "0e157dc5",
   "metadata": {},
   "outputs": [],
   "source": [
    "import re \n",
    "regex = r'^[+,-]?[0-9]*\\.[0-9]+$'\n",
    "test_cases = int(input())\n",
    "for i in range(test_cases):\n",
    "    pattern = input()\n",
    "    if re.search(regex,pattern):\n",
    "        print(True)\n",
    "    else:\n",
    "        print(False)"
   ]
  },
  {
   "cell_type": "markdown",
   "id": "cd0186ba",
   "metadata": {},
   "source": [
    "# OOPS/CLASSES"
   ]
  },
  {
   "cell_type": "markdown",
   "id": "a35f9c41",
   "metadata": {},
   "source": [
    "### Example 1"
   ]
  },
  {
   "cell_type": "code",
   "execution_count": null,
   "id": "db43f2bb",
   "metadata": {},
   "outputs": [],
   "source": [
    "class Dog:\n",
    "    \n",
    "    def __init__(self, name,age): #special method, instanciate the method right when its created.  \n",
    "        self.name = name   # attribute of the class Dog, (they dont need to match)\n",
    "        self.age = age\n",
    "        \n",
    "    def get_name(self):\n",
    "        return self.name\n",
    "    \n",
    "    def get_age(self):\n",
    "        return self.age\n",
    "\n",
    "    def add_1(self,x):\n",
    "        return x+1\n",
    "    \n",
    "    def set_age(self,age):\n",
    "        self.age = age\n",
    "    \n",
    "    def bark(self): # method is a function that does inside in a class. Always starts with a keyword self.\n",
    "        print(\"bark\")"
   ]
  },
  {
   "cell_type": "code",
   "execution_count": null,
   "id": "aaf09285",
   "metadata": {},
   "outputs": [],
   "source": [
    "d2 = Dog(\"Bill\",43)\n",
    "d = Dog(\"Tim\",34) # instantiating, creating an instance of the class Dog"
   ]
  },
  {
   "cell_type": "code",
   "execution_count": null,
   "id": "c6b7fe11",
   "metadata": {},
   "outputs": [],
   "source": [
    "print(d.get_age())\n",
    "print(d2.get_age())"
   ]
  },
  {
   "cell_type": "code",
   "execution_count": null,
   "id": "3bb74918",
   "metadata": {},
   "outputs": [],
   "source": [
    "d.set_age(23)\n",
    "print(d.get_age())"
   ]
  },
  {
   "cell_type": "code",
   "execution_count": null,
   "id": "ddff65df",
   "metadata": {},
   "outputs": [],
   "source": [
    "d.add_1(5)"
   ]
  },
  {
   "cell_type": "markdown",
   "id": "90aa6655",
   "metadata": {},
   "source": [
    "### Example 2"
   ]
  },
  {
   "cell_type": "code",
   "execution_count": null,
   "id": "37ff4745",
   "metadata": {},
   "outputs": [],
   "source": [
    "class Student:\n",
    "    def __init__(self,name, age, grade):\n",
    "        self.name = name\n",
    "        self.age = age\n",
    "        self.grade = grade # 0 - 100\n",
    "        \n",
    "    def get_grade(self):\n",
    "        return self.grade\n",
    "\n",
    "class Course:\n",
    "    def __init__(self,name,max_students):\n",
    "        self.name = name\n",
    "        self.max_students = max_students\n",
    "        self.students = []\n",
    "    def add_student(self, student):\n",
    "        if len(self.students) < self.max_students:\n",
    "            self.students.append(student)\n",
    "            return True\n",
    "        return False\n",
    "    \n",
    "    def get_average_grade(self):\n",
    "        value = 0\n",
    "        for student in self.students:\n",
    "            value += student.get_grade()\n",
    "        return value/len(self.students)\n",
    "    "
   ]
  },
  {
   "cell_type": "code",
   "execution_count": null,
   "id": "b03b930b",
   "metadata": {},
   "outputs": [],
   "source": [
    "s1 = Student(\"Tim\", 19, 95)\n",
    "s2 = Student(\"Bill\", 19, 65)\n",
    "s3 = Student(\"Jim\", 19, 74)"
   ]
  },
  {
   "cell_type": "code",
   "execution_count": null,
   "id": "628fe553",
   "metadata": {},
   "outputs": [],
   "source": [
    "course = Course(\"Science\", 2)\n",
    "course.add_student(s1)\n",
    "course.add_student(s2)"
   ]
  },
  {
   "cell_type": "code",
   "execution_count": null,
   "id": "e7bd8056",
   "metadata": {},
   "outputs": [],
   "source": [
    "print(course.get_average_grade())"
   ]
  },
  {
   "cell_type": "markdown",
   "id": "7b2a6777",
   "metadata": {},
   "source": [
    "### Inheritance"
   ]
  },
  {
   "cell_type": "code",
   "execution_count": null,
   "id": "4ecdb23f",
   "metadata": {},
   "outputs": [],
   "source": [
    "class Pet:\n",
    "    def __init__(self, name, age):\n",
    "        self.name = name\n",
    "        self.age = age\n",
    "    def show(self):\n",
    "        print(f\"I am {self.name} and I am {self.age} years old\")\n",
    "    \n",
    "    def speak(self):\n",
    "        print(\"IDK What to say\")\n",
    "\n",
    "class Cat(Pet):  \n",
    "    def __init__(self,name, age, color):\n",
    "        super().__init__(name, age)\n",
    "        self.color = color\n",
    "        \n",
    "    def speak(self):\n",
    "        print(\"Meow\")\n",
    "        \n",
    "    def show(self):\n",
    "         print(f\"I am {self.name} and I am {self.age} years old and I am {self.color} in color\")\n",
    "\n",
    "class Dog(Pet):  \n",
    "    def speak(self):\n",
    "        print(\"Meow\")\n",
    "        \n",
    "class Fish(Pet):\n",
    "    pass"
   ]
  },
  {
   "cell_type": "code",
   "execution_count": null,
   "id": "70602cfc",
   "metadata": {},
   "outputs": [],
   "source": [
    "p = Pet(\"Tim\", 19)\n",
    "p.show()\n",
    "c = Cat(\"Bill\", 34, \"Light Blue\")\n",
    "c.show()\n",
    "d = Dog(\"Jill\", 23)\n",
    "d.speak()\n",
    "f = Fish(\"Butter\", 1)\n",
    "f.speak()"
   ]
  },
  {
   "cell_type": "markdown",
   "id": "4947a839",
   "metadata": {},
   "source": [
    "### Class Attributes"
   ]
  },
  {
   "cell_type": "code",
   "execution_count": null,
   "id": "dab9081b",
   "metadata": {},
   "outputs": [],
   "source": [
    "class Person:\n",
    "    number_of_people = 0 # Class Attribute\n",
    "    def __init__(self,name):\n",
    "        self.name = name\n",
    "        Person.add_person()\n",
    "\n",
    "    @classmethod # Decorator\n",
    "    def number_of_people_(cls):    # Class Method, act on class itself. hence cls as its just acting on its class\n",
    "        return cls.number_of_people\n",
    "    \n",
    "    @classmethod\n",
    "    def add_person(cls):\n",
    "        cls.number_of_people+=1\n",
    "\n",
    "p1 = Person(\"tim\")\n",
    "print(Person.number_of_people_())\n",
    "p2 = Person(\"jill\")\n",
    "print(Person.number_of_people_())"
   ]
  },
  {
   "cell_type": "markdown",
   "id": "65bb45f1",
   "metadata": {},
   "source": [
    "### Static Method"
   ]
  },
  {
   "cell_type": "code",
   "execution_count": null,
   "id": "c7bc0b1b",
   "metadata": {},
   "outputs": [],
   "source": [
    "class Math:    \n",
    "    @staticmethod\n",
    "    def add5(x):\n",
    "        return x+5"
   ]
  },
  {
   "cell_type": "code",
   "execution_count": null,
   "id": "03802f7b",
   "metadata": {},
   "outputs": [],
   "source": [
    "print(Math.add5(5))"
   ]
  },
  {
   "cell_type": "markdown",
   "id": "0e3647a8",
   "metadata": {},
   "source": [
    "###  Class 2 - Fin dthe Torsional Angle\n"
   ]
  },
  {
   "cell_type": "code",
   "execution_count": null,
   "id": "f2d3a8fa",
   "metadata": {},
   "outputs": [],
   "source": [
    "import math\n",
    "\n",
    "class Points(object):\n",
    "    def __init__(self, x, y, z):\n",
    "        self.x = x\n",
    "        self.y = y\n",
    "        self.z = z\n",
    "\n",
    "    def __sub__(self, no):\n",
    "        x = self.x - no.x\n",
    "        y = self.y - no.y\n",
    "        z = self.z - no.z\n",
    "        return Points(x, y, z)\n",
    "        \n",
    "    def dot(self, no):\n",
    "        return self.x * no.x + self.y * no.y + self.z * no.z\n",
    "\n",
    "    def cross(self, no):\n",
    "        d1 = (self.y*no.z)-(self.z*no.y)\n",
    "        d2 = (self.x*no.z)-(self.z*no.x)\n",
    "        d3 = (self.x*no.y)-(self.y*no.x)\n",
    "        return Points(d1,d2,d3)\n",
    "        \n",
    "    def absolute(self):\n",
    "        return pow((self.x ** 2 + self.y ** 2 + self.z ** 2), 0.5)\n",
    "\n",
    "if __name__ == '__main__':"
   ]
  }
 ],
 "metadata": {
  "kernelspec": {
   "display_name": "Python 3 (ipykernel)",
   "language": "python",
   "name": "python3"
  },
  "language_info": {
   "codemirror_mode": {
    "name": "ipython",
    "version": 3
   },
   "file_extension": ".py",
   "mimetype": "text/x-python",
   "name": "python",
   "nbconvert_exporter": "python",
   "pygments_lexer": "ipython3",
   "version": "3.7.9"
  }
 },
 "nbformat": 4,
 "nbformat_minor": 5
}
