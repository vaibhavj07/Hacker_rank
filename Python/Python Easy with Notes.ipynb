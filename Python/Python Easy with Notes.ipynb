{
 "cells": [
  {
   "cell_type": "markdown",
   "id": "2ddc7f80",
   "metadata": {},
   "source": [
    "# Collections. OrderedDict\n"
   ]
  },
  {
   "cell_type": "markdown",
   "id": "a080c3fc",
   "metadata": {},
   "source": [
    "An OrderedDict is a dictionary that remembers the order of the keys that were inserted first. If a new entry overwrites an existing entry, the original insertion position is left unchanged."
   ]
  },
  {
   "cell_type": "code",
   "execution_count": 1,
   "id": "72cb0c6a",
   "metadata": {},
   "outputs": [],
   "source": [
    "from collections import OrderedDict"
   ]
  },
  {
   "cell_type": "code",
   "execution_count": 2,
   "id": "76f49a65",
   "metadata": {},
   "outputs": [],
   "source": [
    "from collections import OrderedDict\n",
    "N = int(input())\n",
    "#item = input().split()\n",
    "ordered_dictionary = OrderedDict()\n",
    "for i in range(0,N):\n",
    "    itemlist = input().split() \n",
    "    itemname = ' '.join(itemlist[:-1])\n",
    "    price = int(itemlist[-1])\n",
    "    if itemname in ordered_dictionary.keys():\n",
    "        ordered_dictionary[itemname] = ordered_dictionary[itemname] + price\n",
    "    else: \n",
    "        ordered_dictionary[itemname] = price\n",
    "for k in ordered_dictionary.items():\n",
    "    print(*k)\n"
   ]
  },
  {
   "cell_type": "markdown",
   "id": "b291dd07",
   "metadata": {},
   "source": [
    "# itertools.combinations(iterable, r)"
   ]
  },
  {
   "cell_type": "markdown",
   "id": "9af171ae",
   "metadata": {},
   "source": [
    "This tool returns the  length subsequences of elements from the input iterable.\n",
    "\n",
    "Combinations are emitted in lexicographic sorted order. So, if the input iterable is sorted, the combination tuples will be produced in sorted order."
   ]
  },
  {
   "cell_type": "code",
   "execution_count": 4,
   "id": "00e5a9f2",
   "metadata": {},
   "outputs": [],
   "source": [
    "from itertools import combinations"
   ]
  },
  {
   "cell_type": "code",
   "execution_count": 6,
   "id": "7bdfcdef",
   "metadata": {},
   "outputs": [
    {
     "name": "stdout",
     "output_type": "stream",
     "text": [
      "[(1, 1, 2, 3), (1, 1, 2, 4), (1, 1, 3, 4), (1, 2, 3, 4), (1, 2, 3, 4)]\n"
     ]
    }
   ],
   "source": [
    "A = [1,1,2,3,4]\n",
    "print(list(combinations(A,4)))"
   ]
  },
  {
   "cell_type": "code",
   "execution_count": null,
   "id": "85f58e3b",
   "metadata": {},
   "outputs": [],
   "source": [
    "from itertools import combinations\n",
    "n,k = input().strip().split()\n",
    "n = sorted(n)\n",
    "oplist = []\n",
    "for i in range(1, int(k)+1):\n",
    "    oplist.append(sorted(list(combinations(n,i))))\n",
    "for item in oplist:\n",
    "    for comb in item:\n",
    "        print(''.join(comb))"
   ]
  },
  {
   "cell_type": "markdown",
   "id": "74897b54",
   "metadata": {},
   "source": [
    "# Errors and Exceptions"
   ]
  },
  {
   "cell_type": "code",
   "execution_count": null,
   "id": "5816cc74",
   "metadata": {},
   "outputs": [],
   "source": [
    "import re\n",
    "T = int(input())\n",
    "for i in range(T):\n",
    "    try:\n",
    "        regex = re.compile(input())\n",
    "        print(True)\n",
    "    except:\n",
    "        print(False)"
   ]
  },
  {
   "cell_type": "markdown",
   "id": "eeaf24bb",
   "metadata": {},
   "source": [
    "# Sets.add()"
   ]
  },
  {
   "cell_type": "markdown",
   "id": "eb37a899",
   "metadata": {},
   "source": [
    "If we want to add a single element to an existing set, we can use the .add() operation.\n",
    "It adds the element to the set and returns 'None'."
   ]
  },
  {
   "cell_type": "code",
   "execution_count": null,
   "id": "b86346a8",
   "metadata": {},
   "outputs": [],
   "source": [
    "n = int(input())\n",
    "s = set()\n",
    "for i in range(n):\n",
    "    stamp = input()\n",
    "    if stamp not in s:\n",
    "        s.add(stamp)\n",
    "    else:\n",
    "        pass\n",
    "print(len(s))"
   ]
  },
  {
   "cell_type": "markdown",
   "id": "16aa9b99",
   "metadata": {},
   "source": [
    "# tertools.combinations_with_replacement(iterable, r)"
   ]
  },
  {
   "cell_type": "code",
   "execution_count": null,
   "id": "8d889a41",
   "metadata": {},
   "outputs": [],
   "source": [
    "from itertools import combinations_with_replacement\n",
    "s,k = input().strip().split()\n",
    "l = list(combinations_with_replacement(sorted(s),int(k)))\n",
    "for items in l:\n",
    "    print(''.join(items))"
   ]
  },
  {
   "cell_type": "markdown",
   "id": "e572e2d8",
   "metadata": {},
   "source": [
    "# Set .discard(), .remove() & .pop()"
   ]
  },
  {
   "cell_type": "markdown",
   "id": "d71a9ac9",
   "metadata": {},
   "source": [
    ".remove(x)\n",
    "This operation removes element  from the set.\n",
    "If element  does not exist, it raises a KeyError.\n",
    "The .remove(x) operation returns None.\n",
    "\n",
    "--------------------------------------------------------------\n",
    ".discard(x)\n",
    "This operation also removes element  from the set.\n",
    "If element  does not exist, it does not raise a KeyError.\n",
    "The .discard(x) operation returns None.\n",
    "\n",
    "---------------------------------------------------------------\n",
    ".pop()\n",
    "This operation removes and return an arbitrary element from the set.\n",
    "If there are no elements to remove, it raises a KeyError.\n",
    "\n",
    "---------------------------------------------------------------\n",
    " learnt the use of eval():\n",
    " https://realpython.com/python-eval-function/\n",
    " "
   ]
  },
  {
   "cell_type": "code",
   "execution_count": null,
   "id": "6ff6382c",
   "metadata": {},
   "outputs": [],
   "source": [
    "n = int(input())\n",
    "s = set(map(int, input().split()))\n",
    "N = int(input())\n",
    "for i in range(N):\n",
    "    cmd = input().split()\n",
    "    if len(cmd) == 1:\n",
    "        cmd.append(\"\")\n",
    "    eval(\"s.\"+cmd[0]+\"(\"+cmd[1]+\")\")\n",
    "print(sum(s))"
   ]
  }
 ],
 "metadata": {
  "kernelspec": {
   "display_name": "Python 3 (ipykernel)",
   "language": "python",
   "name": "python3"
  },
  "language_info": {
   "codemirror_mode": {
    "name": "ipython",
    "version": 3
   },
   "file_extension": ".py",
   "mimetype": "text/x-python",
   "name": "python",
   "nbconvert_exporter": "python",
   "pygments_lexer": "ipython3",
   "version": "3.7.9"
  }
 },
 "nbformat": 4,
 "nbformat_minor": 5
}
