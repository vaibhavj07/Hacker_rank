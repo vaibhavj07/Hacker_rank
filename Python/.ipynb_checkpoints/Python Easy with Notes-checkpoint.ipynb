{
 "cells": [
  {
   "cell_type": "markdown",
   "id": "2ddc7f80",
   "metadata": {},
   "source": [
    "# Collections\n"
   ]
  },
  {
   "cell_type": "markdown",
   "id": "14ca585e",
   "metadata": {},
   "source": [
    "## Collections. OrderedDict"
   ]
  },
  {
   "cell_type": "markdown",
   "id": "a080c3fc",
   "metadata": {},
   "source": [
    "An OrderedDict is a dictionary that remembers the order of the keys that were inserted first. If a new entry overwrites an existing entry, the original insertion position is left unchanged."
   ]
  },
  {
   "cell_type": "code",
   "execution_count": null,
   "id": "72cb0c6a",
   "metadata": {},
   "outputs": [],
   "source": [
    "from collections import OrderedDict"
   ]
  },
  {
   "cell_type": "code",
   "execution_count": null,
   "id": "76f49a65",
   "metadata": {},
   "outputs": [],
   "source": [
    "from collections import OrderedDict\n",
    "N = int(input())\n",
    "#item = input().split()\n",
    "ordered_dictionary = OrderedDict()\n",
    "for i in range(0,N):\n",
    "    itemlist = input().split() \n",
    "    itemname = ' '.join(itemlist[:-1])\n",
    "    price = int(itemlist[-1])\n",
    "    if itemname in ordered_dictionary.keys():\n",
    "        ordered_dictionary[itemname] = ordered_dictionary[itemname] + price\n",
    "    else: \n",
    "        ordered_dictionary[itemname] = price\n",
    "for k in ordered_dictionary.items():\n",
    "    print(*k)\n"
   ]
  },
  {
   "cell_type": "markdown",
   "id": "18737945",
   "metadata": {},
   "source": [
    "### COLLECTIONS.DEQUE"
   ]
  },
  {
   "cell_type": "markdown",
   "id": "d3b59aba",
   "metadata": {},
   "source": [
    "A deque is a double-ended queue. It can be used to add or remove elements from both ends.\n",
    "Deques support thread safe, memory efficient appends and pops from either side of the deque with approximately the same  O(1) performance in either direction."
   ]
  },
  {
   "cell_type": "code",
   "execution_count": null,
   "id": "5b67a356",
   "metadata": {},
   "outputs": [],
   "source": [
    "from collections import deque\n",
    "d = deque()\n",
    "d.append(1)\n",
    "print(d)\n",
    "d.appendleft(2)\n",
    "print(d)\n",
    "d.clear()\n",
    "print(d)\n",
    "d.extend('1')\n",
    "print(d)\n",
    "d.extendleft('234')\n",
    "print(d)\n",
    "d.count('1')\n",
    "d.pop()\n",
    "print(d)\n",
    "d.popleft()\n",
    "print(d)\n",
    "d.extend('7896')\n",
    "print(d)\n",
    "d.remove('2')\n",
    "print(d)\n",
    "d.reverse()\n",
    "print(d)\n",
    "d.rotate(3)\n",
    "print(d)"
   ]
  },
  {
   "cell_type": "code",
   "execution_count": null,
   "id": "2c4d1ea5",
   "metadata": {},
   "outputs": [],
   "source": [
    "from collections import deque\n",
    "N = int(input())\n",
    "d = deque()\n",
    "for i in range(N):\n",
    "    cmd = input().split()\n",
    "    if len(cmd) == 1:\n",
    "        cmd.append(\"\")\n",
    "    eval(\"d.\"+cmd[0]+\"(\"+cmd[1]+\")\")\n",
    "print(*d)"
   ]
  },
  {
   "cell_type": "markdown",
   "id": "1f901262",
   "metadata": {},
   "source": [
    "# Itertools"
   ]
  },
  {
   "cell_type": "markdown",
   "id": "b291dd07",
   "metadata": {},
   "source": [
    "### itertools.combinations(iterable, r)"
   ]
  },
  {
   "cell_type": "markdown",
   "id": "9af171ae",
   "metadata": {},
   "source": [
    "This tool returns the  length subsequences of elements from the input iterable.\n",
    "\n",
    "Combinations are emitted in lexicographic sorted order. So, if the input iterable is sorted, the combination tuples will be produced in sorted order."
   ]
  },
  {
   "cell_type": "code",
   "execution_count": null,
   "id": "00e5a9f2",
   "metadata": {},
   "outputs": [],
   "source": [
    "from itertools import combinations"
   ]
  },
  {
   "cell_type": "code",
   "execution_count": null,
   "id": "7bdfcdef",
   "metadata": {},
   "outputs": [],
   "source": [
    "A = [1,1,2,3,4]\n",
    "print(list(combinations(A,4)))"
   ]
  },
  {
   "cell_type": "code",
   "execution_count": null,
   "id": "85f58e3b",
   "metadata": {},
   "outputs": [],
   "source": [
    "from itertools import combinations\n",
    "n,k = input().strip().split()\n",
    "n = sorted(n)\n",
    "oplist = []\n",
    "for i in range(1, int(k)+1):\n",
    "    oplist.append(sorted(list(combinations(n,i))))\n",
    "for item in oplist:\n",
    "    for comb in item:\n",
    "        print(''.join(comb))"
   ]
  },
  {
   "cell_type": "markdown",
   "id": "08a7f94c",
   "metadata": {},
   "source": [
    "\n",
    "### itertools.combinations_with_replacement(iterable, r)"
   ]
  },
  {
   "cell_type": "code",
   "execution_count": null,
   "id": "8d889a41",
   "metadata": {},
   "outputs": [],
   "source": [
    "from itertools import combinations_with_replacement\n",
    "s,k = input().strip().split()\n",
    "l = list(combinations_with_replacement(sorted(s),int(k)))\n",
    "for items in l:\n",
    "    print(''.join(items))"
   ]
  },
  {
   "cell_type": "markdown",
   "id": "f5e9b09e",
   "metadata": {},
   "source": [
    "# Errors and Exceptions\n"
   ]
  },
  {
   "cell_type": "code",
   "execution_count": null,
   "id": "5816cc74",
   "metadata": {},
   "outputs": [],
   "source": [
    "import re\n",
    "T = int(input())\n",
    "for i in range(T):\n",
    "    try:\n",
    "        regex = re.compile(input())\n",
    "        print(True)\n",
    "    except:\n",
    "        print(False)"
   ]
  },
  {
   "cell_type": "markdown",
   "id": "28d6fe78",
   "metadata": {},
   "source": [
    "# SETS"
   ]
  },
  {
   "cell_type": "markdown",
   "id": "16aa9b99",
   "metadata": {},
   "source": [
    "# Sets.add()\n",
    "\n"
   ]
  },
  {
   "cell_type": "markdown",
   "id": "eb37a899",
   "metadata": {},
   "source": [
    "If we want to add a single element to an existing set, we can use the .add() operation.\n",
    "It adds the element to the set and returns 'None'."
   ]
  },
  {
   "cell_type": "code",
   "execution_count": null,
   "id": "b86346a8",
   "metadata": {},
   "outputs": [],
   "source": [
    "n = int(input())\n",
    "s = set()\n",
    "for i in range(n):\n",
    "    stamp = input()\n",
    "    if stamp not in s:\n",
    "        s.add(stamp)\n",
    "    else:\n",
    "        pass\n",
    "print(len(s))"
   ]
  },
  {
   "cell_type": "markdown",
   "id": "e572e2d8",
   "metadata": {},
   "source": [
    "# Set .discard(), .remove() & .pop()"
   ]
  },
  {
   "cell_type": "markdown",
   "id": "d71a9ac9",
   "metadata": {},
   "source": [
    ".remove(x)\n",
    "This operation removes element  from the set.\n",
    "If element  does not exist, it raises a KeyError.\n",
    "The .remove(x) operation returns None.\n",
    "\n",
    "--------------------------------------------------------------\n",
    ".discard(x)\n",
    "This operation also removes element  from the set.\n",
    "If element  does not exist, it does not raise a KeyError.\n",
    "The .discard(x) operation returns None.\n",
    "\n",
    "---------------------------------------------------------------\n",
    ".pop()\n",
    "This operation removes and return an arbitrary element from the set.\n",
    "If there are no elements to remove, it raises a KeyError.\n",
    "\n",
    "---------------------------------------------------------------\n",
    " learnt the use of eval():\n",
    " https://realpython.com/python-eval-function/\n",
    " "
   ]
  },
  {
   "cell_type": "code",
   "execution_count": null,
   "id": "6ff6382c",
   "metadata": {},
   "outputs": [],
   "source": [
    "n = int(input())\n",
    "s = set(map(int, input().split()))\n",
    "N = int(input())\n",
    "for i in range(N):\n",
    "    cmd = input().split()\n",
    "    if len(cmd) == 1:\n",
    "        cmd.append(\"\")\n",
    "    eval(\"s.\"+cmd[0]+\"(\"+cmd[1]+\")\")\n",
    "print(sum(s))"
   ]
  },
  {
   "cell_type": "markdown",
   "id": "e365099c",
   "metadata": {},
   "source": [
    "# set.union"
   ]
  },
  {
   "cell_type": "markdown",
   "id": "e89ccd5a",
   "metadata": {},
   "source": [
    "The .union() operator returns the union of a set and the set of elements in an iterable.\n",
    "Sometimes, the | operator is used in place of .union() operator, but it operates only on the set of elements in set.\n",
    "Set is immutable to the .union() operation (or | operation)."
   ]
  },
  {
   "cell_type": "code",
   "execution_count": null,
   "id": "b64580a5",
   "metadata": {},
   "outputs": [],
   "source": [
    "s = set(\"Hacker\")\n",
    "print(s.union(\"Rank\"))\n",
    "\n",
    "print( s.union(set(['R', 'a', 'n', 'k'])))\n",
    "\n",
    "print( s.union(['R', 'a', 'n', 'k']))\n",
    "\n",
    "print( s.union(enumerate(['R', 'a', 'n', 'k'])))\n",
    "\n",
    "print( s.union({\"Rank\":1}))\n",
    "\n",
    "s | set(\"Rank\")"
   ]
  },
  {
   "cell_type": "code",
   "execution_count": null,
   "id": "84432ad1",
   "metadata": {},
   "outputs": [],
   "source": [
    "n = int(input())\n",
    "students_e = set(input().split())\n",
    "b = int(input())\n",
    "students_f = set(input().split())\n",
    "at_1 = students_e.union(students_f)\n",
    "print(len(at_1))"
   ]
  },
  {
   "cell_type": "markdown",
   "id": "b69d583a",
   "metadata": {},
   "source": [
    "### sets.intersection()"
   ]
  },
  {
   "cell_type": "markdown",
   "id": "8f886d57",
   "metadata": {},
   "source": [
    "The .intersection() operator returns the intersection of a set and the set of elements in an iterable.\n",
    "Sometimes, the & operator is used in place of the .intersection() operator, but it only operates on the set of elements in set.\n",
    "The set is immutable to the .intersection() operation (or & operation)."
   ]
  },
  {
   "cell_type": "code",
   "execution_count": null,
   "id": "35236b1d",
   "metadata": {},
   "outputs": [],
   "source": [
    "s = set(\"Hacker\")\n",
    "print( s.intersection(\"Rank\"))\n",
    "\n",
    "\n",
    "print (s.intersection(set(['R', 'a', 'n', 'k'])))\n",
    "\n",
    "\n",
    "print (s.intersection(['R', 'a', 'n', 'k']))\n",
    "\n",
    "\n",
    "print (s.intersection(enumerate(['R', 'a', 'n', 'k'])))\n",
    "\n",
    "\n",
    "print (s.intersection({\"Rank\":1}))\n",
    "\n",
    "\n",
    "s & set(\"Rank\")"
   ]
  },
  {
   "cell_type": "code",
   "execution_count": null,
   "id": "d5d8db14",
   "metadata": {},
   "outputs": [],
   "source": [
    "n = int(input())\n",
    "n_s = set(input().split())\n",
    "b= int(input())\n",
    "b_s = set(input().split())\n",
    "s_both = n_s.intersection(b_s)\n",
    "print(len(s_both))"
   ]
  },
  {
   "cell_type": "markdown",
   "id": "a6699b28",
   "metadata": {},
   "source": [
    "### set.difference()"
   ]
  },
  {
   "cell_type": "markdown",
   "id": "c8f8e17d",
   "metadata": {},
   "source": [
    ".difference()\n",
    "The tool .difference() returns a set with all the elements from the set that are not in an iterable.\n",
    "Sometimes the - operator is used in place of the .difference() tool, but it only operates on the set of elements in set.\n",
    "Set is immutable to the .difference() operation (or the - operation)."
   ]
  },
  {
   "cell_type": "code",
   "execution_count": null,
   "id": "283a7f97",
   "metadata": {},
   "outputs": [],
   "source": [
    "n = int(input())\n",
    "n_s = set(input().split())\n",
    "b= int(input())\n",
    "b_s = set(input().split())\n",
    "e_o = n_s.difference(b_s)\n",
    "print(len(e_o))"
   ]
  },
  {
   "cell_type": "markdown",
   "id": "6690a212",
   "metadata": {},
   "source": [
    "# MATH"
   ]
  },
  {
   "cell_type": "markdown",
   "id": "030e2b58",
   "metadata": {},
   "source": [
    "### Divmod"
   ]
  },
  {
   "cell_type": "markdown",
   "id": "1d22ce0b",
   "metadata": {},
   "source": [
    "One of the built-in functions of Python is divmod, which takes two arguments  and  and returns a tuple containing the quotient of  first and then the remainder .\n",
    "\n",
    "->print divmod(177,10)"
   ]
  },
  {
   "cell_type": "code",
   "execution_count": null,
   "id": "0c70541c",
   "metadata": {},
   "outputs": [],
   "source": [
    "a = int(input())\n",
    "b = int(input())\n",
    "print(a//b)\n",
    "print(a%b)\n",
    "print(divmod(a,b))"
   ]
  },
  {
   "cell_type": "markdown",
   "id": "fbf055de",
   "metadata": {},
   "source": [
    "### Power - Mode Power"
   ]
  },
  {
   "cell_type": "markdown",
   "id": "ef81786e",
   "metadata": {},
   "source": [
    "Powers or exponents in Python can be calculated using the built-in power function. Call the power function  as shown below:\n",
    "\n",
    "->pow(a,b) \n",
    "or\n",
    "\n",
    "-> a**b\n",
    "\n",
    "It's also possible to calculate .\n",
    "\n",
    "-> pow(a,b,m)  \n",
    "This is very helpful in computations where you have to print the resultant % mod.\n",
    "\n",
    "Note: Here,  and  can be floats or negatives, but, if a third argument is present,  cannot be negative.\n",
    "\n",
    "Note: Python has a math module that has its own pow(). It takes two arguments and returns a float. It is uncommon to use math.pow()."
   ]
  },
  {
   "cell_type": "code",
   "execution_count": null,
   "id": "1321d246",
   "metadata": {},
   "outputs": [],
   "source": []
  }
 ],
 "metadata": {
  "kernelspec": {
   "display_name": "Python 3 (ipykernel)",
   "language": "python",
   "name": "python3"
  },
  "language_info": {
   "codemirror_mode": {
    "name": "ipython",
    "version": 3
   },
   "file_extension": ".py",
   "mimetype": "text/x-python",
   "name": "python",
   "nbconvert_exporter": "python",
   "pygments_lexer": "ipython3",
   "version": "3.7.9"
  }
 },
 "nbformat": 4,
 "nbformat_minor": 5
}
